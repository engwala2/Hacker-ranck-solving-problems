{
 "cells": [
  {
   "cell_type": "code",
   "execution_count": null,
   "metadata": {},
   "outputs": [],
   "source": [
    "import re\n",
    "n = input()\n",
    "sn = input()\n",
    "\n",
    "pattern = re.compile(sn)\n",
    "m = re.search(pattern ,n)\n",
    "\n",
    "if not m :\n",
    "    print('(-1, -1)')\n",
    "while m:\n",
    "    f = m.start()\n",
    "    e = m.end()\n",
    "    print('({0}, {1})'.format(f,e-1))\n",
    "    m = pattern.search(n,f+1)"
   ]
  }
 ],
 "metadata": {
  "kernelspec": {
   "display_name": "Python 3",
   "language": "python",
   "name": "python3"
  },
  "language_info": {
   "codemirror_mode": {
    "name": "ipython",
    "version": 3
   },
   "file_extension": ".py",
   "mimetype": "text/x-python",
   "name": "python",
   "nbconvert_exporter": "python",
   "pygments_lexer": "ipython3",
   "version": "3.7.4"
  }
 },
 "nbformat": 4,
 "nbformat_minor": 2
}
