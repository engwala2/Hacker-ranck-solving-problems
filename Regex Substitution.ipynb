{
 "cells": [
  {
   "cell_type": "code",
   "execution_count": null,
   "metadata": {},
   "outputs": [],
   "source": [
    "import re\n",
    "\n",
    "ii = int(input())\n",
    "\n",
    "for i in range(0,ii):\n",
    "   txt = input()\n",
    "   txt = re.sub(r\"\\ \\&\\&\\ \",\" and \",txt)\n",
    "   txt = re.sub(r\"\\ \\|\\|\\ \",\" or \",txt)\n",
    "   txt = re.sub(r\"\\ \\&\\&\\ \",\" and \",txt)\n",
    "   txt = re.sub(r\"\\ \\|\\|\\ \",\" or \",txt)\n",
    "   print(txt)"
   ]
  }
 ],
 "metadata": {
  "kernelspec": {
   "display_name": "Python 3",
   "language": "python",
   "name": "python3"
  },
  "language_info": {
   "codemirror_mode": {
    "name": "ipython",
    "version": 3
   },
   "file_extension": ".py",
   "mimetype": "text/x-python",
   "name": "python",
   "nbconvert_exporter": "python",
   "pygments_lexer": "ipython3",
   "version": "3.7.4"
  }
 },
 "nbformat": 4,
 "nbformat_minor": 2
}
