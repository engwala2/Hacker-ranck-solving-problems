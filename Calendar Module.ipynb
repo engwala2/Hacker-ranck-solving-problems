{
 "cells": [
  {
   "cell_type": "code",
   "execution_count": null,
   "metadata": {},
   "outputs": [],
   "source": [
    "n = list(input().split(' '))\n",
    "m = int(n[0])\n",
    "d = int(n[1])\n",
    "y = int(n[2])\n",
    "import calendar\n",
    "\n",
    "\n",
    "print((calendar.day_name[calendar.weekday(y, m, d)]).upper())"
   ]
  }
 ],
 "metadata": {
  "kernelspec": {
   "display_name": "Python 3",
   "language": "python",
   "name": "python3"
  },
  "language_info": {
   "codemirror_mode": {
    "name": "ipython",
    "version": 3
   },
   "file_extension": ".py",
   "mimetype": "text/x-python",
   "name": "python",
   "nbconvert_exporter": "python",
   "pygments_lexer": "ipython3",
   "version": "3.7.4"
  }
 },
 "nbformat": 4,
 "nbformat_minor": 2
}
