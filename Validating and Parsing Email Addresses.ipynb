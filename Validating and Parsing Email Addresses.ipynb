{
 "cells": [
  {
   "cell_type": "code",
   "execution_count": null,
   "metadata": {},
   "outputs": [],
   "source": [
    "# Enter your code here. Read input from STDIN. Print output to STDOUT\n",
    "import email.utils\n",
    "n = int(input())\n",
    "import re\n",
    "\n",
    "for i in range(n):\n",
    "    e = input()\n",
    "    ee = email.utils.parseaddr(e)\n",
    "    \n",
    "    if re.match('[a-zA-Z](\\w|-|\\.)*@[a-zA-Z]*\\.[a-zA-Z]{0,3}$',ee[1]):\n",
    "        print(e)"
   ]
  }
 ],
 "metadata": {
  "kernelspec": {
   "display_name": "Python 3",
   "language": "python",
   "name": "python3"
  },
  "language_info": {
   "codemirror_mode": {
    "name": "ipython",
    "version": 3
   },
   "file_extension": ".py",
   "mimetype": "text/x-python",
   "name": "python",
   "nbconvert_exporter": "python",
   "pygments_lexer": "ipython3",
   "version": "3.7.4"
  }
 },
 "nbformat": 4,
 "nbformat_minor": 2
}
